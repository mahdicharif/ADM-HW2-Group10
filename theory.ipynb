{
 "cells": [
  {
   "cell_type": "markdown",
   "metadata": {},
   "source": [
    "We have changed n/2 for n//2 in order to get rid of the error \"'float' object cannot be interpreted as an integer."
   ]
  },
  {
   "cell_type": "code",
   "execution_count": null,
   "metadata": {},
   "outputs": [],
   "source": [
    "def splitSwap(a, l, n): \n",
    "    if n <= 1:\n",
    "        return\n",
    "    splitSwap(a, l, (n//2))\n",
    "    splitSwap(a, l+ (n//2), (n//2))\n",
    "    swapList(a, l, n)\n",
    "    \n",
    "def swapList(a, l, n):\n",
    "    for i in range(1,n//2):\n",
    "        tmp = a[l + i]\n",
    "        a[l + i] = a[l + n//2 + i] \n",
    "        a[l + n//2 + i] = tmp\n",
    "    \n",
    "print(splitSwap(a, 0, n))"
   ]
  },
  {
   "cell_type": "markdown",
   "metadata": {},
   "source": [
    "## How much running time does it take to execute splitSwap(a, 0, n)? We want a Big O analysis.\n",
    "\n",
    "It is the case of Master theorem for divide-and-conquer recurrences. Considering the following algorithm (source: https://en.wikipedia.org/wiki/Master_theorem_(analysis_of_algorithms)):\n",
    "\n",
    " procedure p( input x of size n ):\n",
    " \n",
    "    if n < some constant k:\n",
    "   \n",
    "       Solve x directly without recursion\n",
    "      \n",
    "    else:\n",
    "   \n",
    "       Create a subproblems of x, each having size n/b\n",
    "       \n",
    "       Call procedure p recursively on each subproblem\n",
    "       \n",
    "       Combine the results from the subproblems\n",
    "   \n",
    "The running time - T(n)=a*T(n/b)+f(n) where f(n) is the time to create the subproblems and combine their results in the above procedure.\n",
    "\n",
    "a=2, b=2\n",
    "\n",
    "c_crit = log(b)a = log(2)2 = 1\n",
    "\n",
    "It is obvious that the complexity of swapList(a, l, n) function is O(n).\n",
    "\n",
    "n=n*(logn)^0, we state from f(n)=theta(n^(c_crit)*(log^k)n) that k=0\n",
    "\n",
    "This is the case where T(n)=theta(n^(c_crit)*(log^(k+1))n) -> T(n) = O(n*logn)\n",
    "    "
   ]
  },
  {
   "cell_type": "markdown",
   "metadata": {},
   "source": [
    "## What does this algorithm do? Is it optimal? Describe the mechanism of the algorithm in details, we do not want to know only its final result.\n",
    "\n",
    "Let us take an example of array. Let us say a = [1,2,3,4,5,6,7,8,9,10,11,12,13,14,15,16], so n=16.\n",
    "\n",
    "1. We atart from the array above. Since n=16>1, the first function to execute is splitSwap(a, l, (n//2)). The function divide our array for the arrays of lengths n=8 (1,2,3,4,5,6,7,8), n=4 (1,2,3,4), n=2 (1,2), n=1 (1)\n",
    "\n",
    "\n",
    "2. splitSwap(a, l+ (n//2), (n//2)) is executed, l+(n//2)=0+1=1\n",
    "\n",
    "\n",
    "3. swapList(a, l, n) is executed. It is done on the list of length 2 (1,2), so for i in range(1, 2//2=1) -> nothing happens\n",
    "\n",
    "\n",
    "4. When n=4 -> \"in range(1, 4//2=2)\", 2 is excluded, the loop is executed one time, so it swaps elements at the position 0+1 and 0+2+1\n",
    "\n",
    "\n",
    "5. When n=8 -> in range(1, 8//2=4), the loop is executed 3 times, so it swaps elements at the position 3,2,1 and 5,6,7. We obtain the list (1, 8, 7, 6, 5, 4, 3, 2, 9, 10, 11, 12, 13, 14, 15, 16)\n",
    "\n",
    "\n",
    "6. Then, numbers are swapped in the same way in the second part of the initial array - [9,10,11,12,13,14,15,16)\n",
    "\n",
    "\n",
    "7. After swapping the second part, we obtain the list (1, 8, 7, 6, 5, 4, 3, 2, 9, 16, 15, 14, 13, 12, 11, 10)\n",
    "\n",
    "\n",
    "8. In the last step, we consider the whole array - from element 0 to element 15 and we execute the function swapList the last time, so a[1]=a[9], a[2]=a[10], ..., a[7]=a[15]\n",
    "\n",
    "\n",
    "9. The result is a=[1, 16, 15, 14, 13, 12, 11, 10, 9, 8, 7, 6, 5, 4, 3, 2]\n",
    "\n",
    "\n",
    "10. In case of odd number of elements in the array, the last element is just left unchanged (because of // operation)\n",
    "\n",
    "<br><br><br>\n",
    "**THE IDEA** <br>\n",
    "We used print function in few lines in order to see which parts are executed:"
   ]
  },
  {
   "cell_type": "code",
   "execution_count": null,
   "metadata": {},
   "outputs": [],
   "source": [
    "a=[1,2,3,4,5,6,7,8,9,10,11,12,13,14,15,16]\n",
    "n=16\n",
    "\n",
    "def splitSwap(a, l, n): \n",
    "    print('start',a,l,n)\n",
    "    if n <= 1:\n",
    "        return\n",
    "    splitSwap(a, l, (n//2))\n",
    "    splitSwap(a, l+ (n//2), (n//2))\n",
    "    swapList(a, l, n) \n",
    "    print('end',a,l,n)\n",
    "def swapList(a, l, n):\n",
    "    print('swaplist',a,l,n)\n",
    "    for i in range(1,n//2):\n",
    "        tmp = a[l + i]\n",
    "        a[l + i] = a[l + n//2 + i] \n",
    "        a[l + n//2 + i] = tmp\n",
    "    \n",
    "print(splitSwap(a, 0, n))\n",
    "print(a)"
   ]
  },
  {
   "cell_type": "markdown",
   "metadata": {},
   "source": [
    "The algoritm is not optimal. **Here is an example of the algorithm which gives the same results and has the complexity O(n)** (so better than O(nlogn) :"
   ]
  },
  {
   "cell_type": "code",
   "execution_count": 1,
   "metadata": {},
   "outputs": [
    {
     "name": "stdout",
     "output_type": "stream",
     "text": [
      "[1, 16, 15, 14, 13, 12, 11, 10, 9, 8, 7, 6, 5, 4, 3, 2]\n"
     ]
    }
   ],
   "source": [
    "a=[1,2,3,4,5,6,7,8,9,10,11,12,13,14,15,16]\n",
    "n=16\n",
    "\n",
    "for i in range(0,(len(a))//2):\n",
    "    tmp=a[i+1]\n",
    "    a[i+1]=a[len(a)-i-1]\n",
    "    a[len(a)-i-1]=tmp\n",
    "    \n",
    "print(a)"
   ]
  }
 ],
 "metadata": {
  "kernelspec": {
   "display_name": "Python 3",
   "language": "python",
   "name": "python3"
  },
  "language_info": {
   "codemirror_mode": {
    "name": "ipython",
    "version": 3
   },
   "file_extension": ".py",
   "mimetype": "text/x-python",
   "name": "python",
   "nbconvert_exporter": "python",
   "pygments_lexer": "ipython3",
   "version": "3.7.1"
  }
 },
 "nbformat": 4,
 "nbformat_minor": 2
}
